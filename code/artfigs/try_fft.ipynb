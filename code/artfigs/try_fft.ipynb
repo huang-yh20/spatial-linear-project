{
 "cells": [
  {
   "cell_type": "code",
   "execution_count": 1,
   "metadata": {},
   "outputs": [],
   "source": [
    "import matplotlib.pyplot as plt\n",
    "from mpl_toolkits.axes_grid1.inset_locator import inset_axes\n",
    "import numpy as np\n",
    "import matplotlib.pyplot as plt\n",
    "import scipy.sparse as spa\n",
    "import scipy.sparse.linalg as spalin\n",
    "from tqdm import trange\n",
    "import matplotlib.colors as mcolors\n",
    "from matplotlib.ticker import MaxNLocator\n",
    "import os\n",
    "import sys\n",
    "sys.path.append(\"../dyn/\")\n",
    "sys.path.append(\"../\")\n",
    "sys.path.append(\"../phase/\")\n",
    "sys.path.append(\"../artfigs/\")\n",
    "from spatial_ultis import *\n",
    "from dyn_ultis import *\n",
    "from phase_params import *\n",
    "from dyn_params import *\n",
    "from artfigs_ulits import *"
   ]
  },
  {
   "cell_type": "code",
   "execution_count": null,
   "metadata": {},
   "outputs": [],
   "source": [
    "T, t_step, record_step = 100, 100, 10\n",
    "t_step_onset = 400\n",
    "file_name_list = ['2dglobal','2dosc','2dbump','2dwave','2dchaos','2dwave']\n",
    "generate_params_list = [generate_params_dyn_global_new, generate_params_dyn_osc_new, generate_params_dyn_bump_new, generate_params_dyn_wave_new, generate_params_dyn_chaos_new, generate_params_dyn_wave_new]\n",
    "trial_params_list = [3,3,3,3,3,0]\n",
    "p_simul = Simul_Params(T = T, t_step=t_step, record_step=record_step, activation_func=['tanh','linear'])\n",
    "\n",
    "record_x = np.load(r\"./data/artfigs_dynrec_\"+file_name_list[generate_params_trial]+'_'+str(repeat_trial)+r'.npy')"
   ]
  },
  {
   "cell_type": "code",
   "execution_count": null,
   "metadata": {},
   "outputs": [],
   "source": [
    "activated_x = np.tanh(record_x)                   \n",
    "sp_activated_x = np.abs(np.fft.fft(activated_x[t_step_onset::,:], axis=0))\n",
    "freq_sp = np.fft.fftfreq(np.shape(activated_x[t_step_onset::,:])[0], 1/(p_simul.t_step/p_simul.record_step))\n",
    "sp_mean = np.mean(sp_activated_x, axis=1)"
   ]
  },
  {
   "cell_type": "code",
   "execution_count": null,
   "metadata": {},
   "outputs": [],
   "source": [
    "plt.plot(sp_mean)"
   ]
  }
 ],
 "metadata": {
  "kernelspec": {
   "display_name": "Python 3",
   "language": "python",
   "name": "python3"
  },
  "language_info": {
   "codemirror_mode": {
    "name": "ipython",
    "version": 3
   },
   "file_extension": ".py",
   "mimetype": "text/x-python",
   "name": "python",
   "nbconvert_exporter": "python",
   "pygments_lexer": "ipython3",
   "version": "3.7.9"
  }
 },
 "nbformat": 4,
 "nbformat_minor": 2
}
