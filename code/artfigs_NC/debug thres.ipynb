{
 "cells": [
  {
   "cell_type": "code",
   "execution_count": 1,
   "metadata": {},
   "outputs": [],
   "source": [
    "import matplotlib.pyplot as plt\n",
    "from mpl_toolkits.axes_grid1.inset_locator import inset_axes\n",
    "import numpy as np\n",
    "import matplotlib.pyplot as plt\n",
    "import scipy.sparse as spa\n",
    "import scipy.sparse.linalg as spalin\n",
    "from scipy.optimize import fsolve\n",
    "from tqdm import trange\n",
    "import matplotlib.colors as mcolors\n",
    "from matplotlib.ticker import MaxNLocator\n",
    "import os\n",
    "import sys\n",
    "sys.path.append(\"../dyn/\")\n",
    "sys.path.append(\"../\")\n",
    "sys.path.append(\"../phase/\")\n",
    "sys.path.append(\"../artfigs_NC/\")\n",
    "from dyn_ultis import *\n",
    "from spatial_ultis import *\n",
    "from artfigs_NC_params import *\n",
    "from artfigs_NC_ultis import *"
   ]
  },
  {
   "cell_type": "code",
   "execution_count": 72,
   "metadata": {},
   "outputs": [],
   "source": [
    "def generate_params_phase_wave_thres_L_1p(trial:int, trial_num:int = 21):\n",
    "    trial_num = trial_num\n",
    "\n",
    "    N_E, N_I = 40000, 10000\n",
    "    alpha = 0.2\n",
    "    g_bar_EE, g_bar_IE, g_bar_EI, g_bar_II = 0.575, 0.125, -1.9, -0.3632\n",
    "    d_EE, d_IE, d_EI, d_II = 0.04, 0.04, 0.04, 0.16 * 0.4\n",
    "    conn_NEE, conn_NIE, conn_NEI, conn_NII = tuple(alpha * np.array([2*np.pi * N_E * d_EE **2, 2*np.pi * N_I * d_IE **2, 2*np.pi * N_E * d_EI **2,2*np.pi * N_I * d_II **2]))\n",
    "    g_EE, g_EI, g_IE, g_II = 0,0,0,0\n",
    "\n",
    "    alpha_list = np.linspace(0.1,0.4,trial_num)\n",
    "    alpha = alpha_list[trial]\n",
    "    conn_NEE, conn_NIE, conn_NEI, conn_NII = tuple(alpha * np.array([2*np.pi * N_E * d_EE **2, 2*np.pi * N_I * d_IE **2, 2*np.pi * N_E * d_EI **2,2*np.pi * N_I * d_II **2]))\n",
    "    print(conn_NEE, conn_NIE, conn_NEI, conn_NII)\n",
    "\n",
    "    p_net = Network_Params(N_E = N_E, N_I = N_I,\n",
    "        N_EE = conn_NEE, N_IE = conn_NIE, N_EI = conn_NEI, N_II = conn_NII,\n",
    "        d_EE = d_EE, d_IE = d_IE, d_EI = d_EI, d_II = d_II,\n",
    "        g_bar_EE = g_bar_EE, g_bar_EI = g_bar_EI, g_bar_IE = g_bar_IE, g_bar_II = g_bar_II,\n",
    "        g_EE = g_EE, g_EI = g_EI, g_IE = g_IE, g_II = g_II\n",
    "        )\n",
    "    return p_net"
   ]
  },
  {
   "cell_type": "code",
   "execution_count": 78,
   "metadata": {},
   "outputs": [
    {
     "name": "stdout",
     "output_type": "stream",
     "text": [
      "112.59468070465822 28.148670176164554 112.59468070465822 72.06059565098126\n"
     ]
    },
    {
     "name": "stderr",
     "output_type": "stream",
     "text": [
      "c:\\Users\\huang-yh20\\AppData\\Local\\Programs\\Python\\Python37\\lib\\site-packages\\scipy\\optimize\\minpack.py:175: RuntimeWarning: The iteration is not making good progress, as measured by the \n",
      "  improvement from the last five Jacobian evaluations.\n",
      "  warnings.warn(msg, RuntimeWarning)\n"
     ]
    },
    {
     "name": "stdout",
     "output_type": "stream",
     "text": [
      "0.9161363891756907\n"
     ]
    },
    {
     "data": {
      "image/png": "[encoded data removed]",
      "text/plain": [
       "<Figure size 640x480 with 1 Axes>"
      ]
     },
     "metadata": {},
     "output_type": "display_data"
    }
   ],
   "source": [
    "p_net = generate_params_phase_wave_thres_L_1p(12)\n",
    "p_simul = Simul_Params(T = 2000, t_step=5, record_step=10, activation_func=['thres_linear','thres_powerlaw'], external_input=\"DC_noise\",tau_m=20.0)\n",
    "p_net_eff = calc_eff_p_net(p_net, p_simul)\n",
    "temp_plot_pred(p_net_eff)\n",
    "# lambda_list_pred_select, label_list_pred_select  = calc_pred_outliers(p_net_eff, dim=2)\n",
    "# real_part_pred_select = np.real(lambda_list_pred_select)\n",
    "# imag_part_pred_select = np.imag(lambda_list_pred_select)\\\n",
    "radius = calc_pred_radius(p_net_eff, dim=2)\n",
    "print(radius)"
   ]
  },
  {
   "cell_type": "code",
   "execution_count": null,
   "metadata": {},
   "outputs": [],
   "source": []
  }
 ],
 "metadata": {
  "kernelspec": {
   "display_name": "Python 3",
   "language": "python",
   "name": "python3"
  },
  "language_info": {
   "codemirror_mode": {
    "name": "ipython",
    "version": 3
   },
   "file_extension": ".py",
   "mimetype": "text/x-python",
   "name": "python",
   "nbconvert_exporter": "python",
   "pygments_lexer": "ipython3",
   "version": "3.7.9"
  }
 },
 "nbformat": 4,
 "nbformat_minor": 2
}
