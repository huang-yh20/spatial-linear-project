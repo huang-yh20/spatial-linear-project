{
 "cells": [
  {
   "cell_type": "code",
   "execution_count": 1,
   "metadata": {},
   "outputs": [],
   "source": [
    "import matplotlib.pyplot as plt\n",
    "from mpl_toolkits.axes_grid1.inset_locator import inset_axes\n",
    "import numpy as np\n",
    "import matplotlib.pyplot as plt\n",
    "import scipy.sparse as spa\n",
    "import scipy.sparse.linalg as spalin\n",
    "from scipy.optimize import fsolve\n",
    "from tqdm import trange\n",
    "import matplotlib.colors as mcolors\n",
    "from matplotlib.ticker import MaxNLocator\n",
    "import os\n",
    "import sys\n",
    "sys.path.append(\"../dyn/\")\n",
    "sys.path.append(\"../\")\n",
    "sys.path.append(\"../phase/\")\n",
    "sys.path.append(\"../artfigs_NC/\")\n",
    "from dyn_ultis import *\n",
    "from spatial_ultis import *\n",
    "from artfigs_NC_params import *\n",
    "from artfigs_NC_ultis import *"
   ]
  },
  {
   "cell_type": "code",
   "execution_count": 17,
   "metadata": {},
   "outputs": [],
   "source": [
    "\n",
    "def find_dyn_fix_point_with_variance(p_net: Network_Params, p_simul: Simul_Params, dim=2):\n",
    "    if type(p_simul.activation_func) == str:\n",
    "        activation_func_list = [activation_func_dict[p_simul.activation_func], activation_func_dict[p_simul.activation_func]]\n",
    "    elif type(p_simul.activation_func) == list:\n",
    "        activation_func_list = [activation_func_dict[p_simul.activation_func[0]], activation_func_dict[p_simul.activation_func[1]]]\n",
    "    external_input = external_input_dict[p_simul.external_input]        \n",
    "        \n",
    "    #x定义为前两个是E跟I的均值，而后两个则是方差\n",
    "    def df(x):\n",
    "        dx_dt = np.array([0.0,0.0,0.0,0.0])\n",
    "        dx_dt[0] = -x[0] + p_net.g_bar_EE * gauss_int(x[0], x[2], activation_func_list[0]) + p_net.g_bar_EI * p_net.N_I / p_net.N_E * gauss_int(x[1], x[3], activation_func_list[1]) + np.mean(external_input(0, p_net)[0][0:p_net.N_E])\n",
    "        dx_dt[1] = -x[1] + p_net.g_bar_IE * gauss_int(x[0], x[2], activation_func_list[0]) * p_net.N_E / p_net.N_I + p_net.g_bar_II * gauss_int(x[1], x[3], activation_func_list[1]) + np.mean(external_input(0, p_net)[0][p_net.N_E:p_net.N_E+p_net.N_I])\n",
    "        \n",
    "        J_EE, J_EI, J_IE, J_II = p_net.g_bar_EE/p_net.N_EE, p_net.g_bar_EI/p_net.N_EI, p_net.g_bar_IE/p_net.N_IE, p_net.g_bar_II/p_net.N_II\n",
    "        sigma_EE, sigma_EI, sigma_IE, sigma_II = p_net.g_EE/np.sqrt(p_net.N_EE), p_net.g_EI/np.sqrt(p_net.N_EI), p_net.g_IE/np.sqrt(p_net.N_IE), p_net.g_II/np.sqrt(p_net.N_II)  \n",
    "        if dim == 1:\n",
    "            sigma_eff_EE = p_net.N_EE * (p_net.N_E/p_net.N_E) * ((1 - p_net.N_EE/(2 * np.sqrt(np.pi)*p_net.d_EE*(p_net.N_E))) * J_EE **2 + sigma_EE**2)\n",
    "            sigma_eff_IE = p_net.N_IE * (p_net.N_E/p_net.N_I) * ((1 - p_net.N_IE/(2 * np.sqrt(np.pi)*p_net.d_IE*(p_net.N_I))) * J_IE **2 + sigma_IE**2)\n",
    "            sigma_eff_EI = p_net.N_EI * (p_net.N_I/p_net.N_E) * ((1 - p_net.N_EI/(2 * np.sqrt(np.pi)*p_net.d_EI*(p_net.N_E))) * J_EI **2 + sigma_EI**2)\n",
    "            sigma_eff_II = p_net.N_II * (p_net.N_I/p_net.N_I) * ((1 - p_net.N_II/(2 * np.sqrt(np.pi)*p_net.d_II*(p_net.N_I))) * J_II **2 + sigma_II**2)\n",
    "        elif dim == 2:\n",
    "            sigma_eff_EE = p_net.N_EE * (p_net.N_E/p_net.N_E) * ((1 - p_net.N_EE/(4 * np.pi * p_net.d_EE**2 * p_net.N_E)) * J_EE **2 + sigma_EE**2)\n",
    "            sigma_eff_IE = p_net.N_IE * (p_net.N_E/p_net.N_I) * ((1 - p_net.N_IE/(4 * np.pi * p_net.d_IE**2 * p_net.N_I)) * J_IE **2 + sigma_IE**2)\n",
    "            sigma_eff_EI = p_net.N_EI * (p_net.N_I/p_net.N_E) * ((1 - p_net.N_EI/(4 * np.pi * p_net.d_EI**2 * p_net.N_E)) * J_EI **2 + sigma_EI**2)\n",
    "            sigma_eff_II = p_net.N_II * (p_net.N_I/p_net.N_I) * ((1 - p_net.N_II/(4 * np.pi * p_net.d_II**2 * p_net.N_I)) * J_II **2 + sigma_II**2)\n",
    "        else:\n",
    "            print('dimenstion error')\n",
    "            return None       \n",
    "        \n",
    "        #TODO 这边存噪声强度没得给出\n",
    "        dx_dt[2] = -x[2] + sigma_eff_EE * gauss_int(x[0], x[2], lambda x:activation_func_list[0](x)**2) + sigma_eff_EI * gauss_int(x[1], x[3], lambda x:activation_func_list[1](x)**2) + 0.01\n",
    "        dx_dt[3] = -x[3] + sigma_eff_IE * gauss_int(x[0], x[2], lambda x:activation_func_list[0](x)**2) + sigma_eff_II * gauss_int(x[1], x[3], lambda x:activation_func_list[1](x)**2) + 0.01\n",
    "        return dx_dt\n",
    "    \n",
    "    # initial_guesses = [np.random.uniform(low=0, high=5, size=(4,)) for _ in range(50)]\n",
    "    initial_guesses = [np.random.uniform(low=0, high=10, size=(4,)) for _ in range(guess_num)] #TEMP\n",
    "\n",
    "    fixed_points = []\n",
    "    for guess in initial_guesses:\n",
    "        point = fsolve(df, guess)\n",
    "        if np.sqrt((np.array(df(point)) ** 2).sum()) < 1e-3:\n",
    "            if not any(np.allclose(point, fp, atol=1e-3) for fp in fixed_points):\n",
    "                fixed_points.append(point)\n",
    "    return fixed_points\n",
    "\n"
   ]
  },
  {
   "cell_type": "code",
   "execution_count": 2,
   "metadata": {},
   "outputs": [],
   "source": [
    "p_simul = Simul_Params(T = 2000, t_step=5, record_step=10, activation_func=['thres_linear','thres_powerlaw'], external_input=\"DC_noise\",tau_m=20.0)\n",
    "p_net = generate_params_phase_d_II_g_bar_II_thres_L(15,5)"
   ]
  },
  {
   "cell_type": "code",
   "execution_count": 4,
   "metadata": {},
   "outputs": [],
   "source": [
    "p_simul = Simul_Params(T = 2000, t_step=5, record_step=10, activation_func=['tanh','tanh_high'], external_input=\"noise\",tau_m=20.0)\n",
    "p_net = generate_params_phase_g_d_II_L_chaos(15, 15)"
   ]
  },
  {
   "cell_type": "code",
   "execution_count": 5,
   "metadata": {},
   "outputs": [
    {
     "data": {
      "text/plain": [
       "[[0.0, 0.0, 0.9691331179195454, 3.92095837238724]]"
      ]
     },
     "execution_count": 5,
     "metadata": {},
     "output_type": "execute_result"
    }
   ],
   "source": [
    "find_dyn_fix_point_with_variance_tanh(p_net, p_simul)"
   ]
  }
 ],
 "metadata": {
  "kernelspec": {
   "display_name": "Python 3",
   "language": "python",
   "name": "python3"
  },
  "language_info": {
   "codemirror_mode": {
    "name": "ipython",
    "version": 3
   },
   "file_extension": ".py",
   "mimetype": "text/x-python",
   "name": "python",
   "nbconvert_exporter": "python",
   "pygments_lexer": "ipython3",
   "version": "3.7.9"
  }
 },
 "nbformat": 4,
 "nbformat_minor": 2
}
