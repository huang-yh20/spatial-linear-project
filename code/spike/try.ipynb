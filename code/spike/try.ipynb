{
 "cells": [
  {
   "cell_type": "code",
   "execution_count": 12,
   "metadata": {},
   "outputs": [],
   "source": [
    "import numpy as np\n",
    "import sys\n",
    "sys.path.append(\"../\")\n",
    "from spatial_ultis import *\n",
    "from spike_ultis import *"
   ]
  },
  {
   "cell_type": "code",
   "execution_count": 17,
   "metadata": {},
   "outputs": [],
   "source": [
    "s_params = Spike_Simul_Params(T = 100, t_step = 0.05,input_ext=[0.0,0.0])"
   ]
  },
  {
   "cell_type": "code",
   "execution_count": null,
   "metadata": {},
   "outputs": [],
   "source": [
    "rescale=100\n",
    "p_net = Network_Params(N_E = 22500, N_I = 5625,\n",
    "    N_EE = 800, N_IE = 200, N_EI = 800, N_II = 200,\n",
    "    d_EE = 0.1, d_IE = 0.1, d_EI = 0.1, d_II = 0.1,\n",
    "    g_bar_EE = 0.5*rescale, g_bar_EI = -1*rescale, g_bar_IE = 0.25*rescale, g_bar_II = -1*rescale,\n",
    "    g_EE = 0.25, g_EI = 11, g_IE = 0.25, g_II = 1\n",
    "    )\n"
   ]
  },
  {
   "cell_type": "code",
   "execution_count": 23,
   "metadata": {},
   "outputs": [
    {
     "data": {
      "text/plain": [
       "[array([0.03410074, 0.02485539])]"
      ]
     },
     "execution_count": 23,
     "metadata": {},
     "output_type": "execute_result"
    }
   ],
   "source": [
    "find_dyn_fix_point_spike(p_net, s_params)"
   ]
  },
  {
   "cell_type": "code",
   "execution_count": 25,
   "metadata": {},
   "outputs": [
    {
     "data": {
      "image/png": "[encoded data removed]",
      "text/plain": [
       "<Figure size 640x480 with 1 Axes>"
      ]
     },
     "metadata": {},
     "output_type": "display_data"
    }
   ],
   "source": [
    "p_net_eff = calc_eff_p_net_spike(p_net, s_params)\n",
    "temp_plot_pred(p_net_eff, dim=2)"
   ]
  },
  {
   "cell_type": "code",
   "execution_count": 38,
   "metadata": {},
   "outputs": [],
   "source": [
    "s_params = Spike_Simul_Params(T = 100, t_step = 0.05,input_ext=[1.0,1.0])\n",
    "\n",
    "rescale=100\n",
    "p_net = Network_Params(N_E = 22500, N_I = 5625,\n",
    "    N_EE = 800, N_IE = 200, N_EI = 800, N_II = 200,\n",
    "    d_EE = 0.1, d_IE = 0.1, d_EI = 0.1, d_II = 0.1,\n",
    "    g_bar_EE = 1*rescale, g_bar_EI = -1*rescale, g_bar_IE = 0.25*rescale, g_bar_II = -0.5*rescale,\n",
    "    g_EE = 0.25, g_EI = 11, g_IE = 0.25, g_II = 1\n",
    "    )"
   ]
  },
  {
   "cell_type": "code",
   "execution_count": 39,
   "metadata": {},
   "outputs": [
    {
     "name": "stderr",
     "output_type": "stream",
     "text": [
      "f:\\spatial-linear-project\\code\\spike\\spike_ultis.py:72: RuntimeWarning: invalid value encountered in sqrt\n",
      "  lower_limit = (p_simul.V_r - mu) / np.sqrt(sigma_2)\n",
      "f:\\spatial-linear-project\\code\\spike\\spike_ultis.py:73: RuntimeWarning: invalid value encountered in sqrt\n",
      "  upper_limit = (p_simul.V_th - mu) / np.sqrt(sigma_2)\n",
      "f:\\spatial-linear-project\\code\\spike\\spike_ultis.py:75: IntegrationWarning: The occurrence of roundoff error is detected, which prevents \n",
      "  the requested tolerance from being achieved.  The error may be \n",
      "  underestimated.\n",
      "  outer_integral, _ = quad(outer_integrand, lower_limit, upper_limit)\n",
      "c:\\Users\\huang-yh20\\AppData\\Local\\Programs\\Python\\Python37\\lib\\site-packages\\scipy\\optimize\\minpack.py:175: RuntimeWarning: The iteration is not making good progress, as measured by the \n",
      "  improvement from the last ten iterations.\n",
      "  warnings.warn(msg, RuntimeWarning)\n",
      "f:\\spatial-linear-project\\code\\spike\\spike_ultis.py:70: RuntimeWarning: overflow encountered in exp\n",
      "  return np.exp(u**2) * inner_integral\n",
      "f:\\spatial-linear-project\\code\\spike\\spike_ultis.py:70: RuntimeWarning: invalid value encountered in double_scalars\n",
      "  return np.exp(u**2) * inner_integral\n",
      "c:\\Users\\huang-yh20\\AppData\\Local\\Programs\\Python\\Python37\\lib\\site-packages\\scipy\\optimize\\minpack.py:175: RuntimeWarning: The iteration is not making good progress, as measured by the \n",
      "  improvement from the last five Jacobian evaluations.\n",
      "  warnings.warn(msg, RuntimeWarning)\n"
     ]
    },
    {
     "data": {
      "text/plain": [
       "[]"
      ]
     },
     "execution_count": 39,
     "metadata": {},
     "output_type": "execute_result"
    }
   ],
   "source": [
    "find_dyn_fix_point_spike(p_net, s_params)"
   ]
  },
  {
   "cell_type": "code",
   "execution_count": 40,
   "metadata": {},
   "outputs": [
    {
     "name": "stdout",
     "output_type": "stream",
     "text": [
      "fixed points number error! 0\n"
     ]
    },
    {
     "ename": "UnboundLocalError",
     "evalue": "local variable 'fixed_point' referenced before assignment",
     "output_type": "error",
     "traceback": [
      "\u001b[1;31m---------------------------------------------------------------------------\u001b[0m",
      "\u001b[1;31mUnboundLocalError\u001b[0m                         Traceback (most recent call last)",
      "\u001b[1;32m~\\AppData\\Local\\Temp\\ipykernel_4132\\2475842128.py\u001b[0m in \u001b[0;36m<module>\u001b[1;34m\u001b[0m\n\u001b[1;32m----> 1\u001b[1;33m \u001b[0mp_net_eff\u001b[0m \u001b[1;33m=\u001b[0m \u001b[0mcalc_eff_p_net_spike\u001b[0m\u001b[1;33m(\u001b[0m\u001b[0mp_net\u001b[0m\u001b[1;33m,\u001b[0m \u001b[0ms_params\u001b[0m\u001b[1;33m)\u001b[0m\u001b[1;33m\u001b[0m\u001b[1;33m\u001b[0m\u001b[0m\n\u001b[0m\u001b[0;32m      2\u001b[0m \u001b[0mtemp_plot_pred\u001b[0m\u001b[1;33m(\u001b[0m\u001b[0mp_net_eff\u001b[0m\u001b[1;33m,\u001b[0m \u001b[0mdim\u001b[0m\u001b[1;33m=\u001b[0m\u001b[1;36m2\u001b[0m\u001b[1;33m)\u001b[0m\u001b[1;33m\u001b[0m\u001b[1;33m\u001b[0m\u001b[0m\n",
      "\u001b[1;32mf:\\spatial-linear-project\\code\\spike\\spike_ultis.py\u001b[0m in \u001b[0;36mcalc_eff_p_net_spike\u001b[1;34m(p_net, p_simul)\u001b[0m\n\u001b[0;32m    118\u001b[0m \u001b[1;33m\u001b[0m\u001b[0m\n\u001b[0;32m    119\u001b[0m     \u001b[0mmu\u001b[0m\u001b[1;33m,\u001b[0m \u001b[0msigma_2\u001b[0m \u001b[1;33m=\u001b[0m \u001b[0mnp\u001b[0m\u001b[1;33m.\u001b[0m\u001b[0marray\u001b[0m\u001b[1;33m(\u001b[0m\u001b[1;33m[\u001b[0m\u001b[1;36m0.0\u001b[0m\u001b[1;33m,\u001b[0m \u001b[1;36m0.0\u001b[0m\u001b[1;33m]\u001b[0m\u001b[1;33m)\u001b[0m\u001b[1;33m,\u001b[0m \u001b[0mnp\u001b[0m\u001b[1;33m.\u001b[0m\u001b[0marray\u001b[0m\u001b[1;33m(\u001b[0m\u001b[1;33m[\u001b[0m\u001b[1;36m0.0\u001b[0m\u001b[1;33m,\u001b[0m \u001b[1;36m0.0\u001b[0m\u001b[1;33m]\u001b[0m\u001b[1;33m)\u001b[0m\u001b[1;33m\u001b[0m\u001b[1;33m\u001b[0m\u001b[0m\n\u001b[1;32m--> 120\u001b[1;33m     \u001b[0mmu\u001b[0m\u001b[1;33m[\u001b[0m\u001b[1;36m0\u001b[0m\u001b[1;33m]\u001b[0m \u001b[1;33m=\u001b[0m \u001b[0mp_simul\u001b[0m\u001b[1;33m.\u001b[0m\u001b[0mtau_m\u001b[0m \u001b[1;33m*\u001b[0m \u001b[1;33m(\u001b[0m\u001b[0mp_simul\u001b[0m\u001b[1;33m.\u001b[0m\u001b[0minput_ext\u001b[0m\u001b[1;33m[\u001b[0m\u001b[1;36m0\u001b[0m\u001b[1;33m]\u001b[0m \u001b[1;33m+\u001b[0m \u001b[0mp_net\u001b[0m\u001b[1;33m.\u001b[0m\u001b[0mg_bar_EE\u001b[0m \u001b[1;33m*\u001b[0m \u001b[0mfixed_point\u001b[0m\u001b[1;33m[\u001b[0m\u001b[1;36m0\u001b[0m\u001b[1;33m]\u001b[0m \u001b[1;33m+\u001b[0m \u001b[0mp_net\u001b[0m\u001b[1;33m.\u001b[0m\u001b[0mg_bar_EI\u001b[0m \u001b[1;33m*\u001b[0m \u001b[0mp_net\u001b[0m\u001b[1;33m.\u001b[0m\u001b[0mN_I\u001b[0m \u001b[1;33m/\u001b[0m \u001b[0mp_net\u001b[0m\u001b[1;33m.\u001b[0m\u001b[0mN_E\u001b[0m \u001b[1;33m*\u001b[0m \u001b[0mfixed_point\u001b[0m\u001b[1;33m[\u001b[0m\u001b[1;36m1\u001b[0m\u001b[1;33m]\u001b[0m\u001b[1;33m)\u001b[0m\u001b[1;33m\u001b[0m\u001b[1;33m\u001b[0m\u001b[0m\n\u001b[0m\u001b[0;32m    121\u001b[0m     \u001b[0mmu\u001b[0m\u001b[1;33m[\u001b[0m\u001b[1;36m1\u001b[0m\u001b[1;33m]\u001b[0m \u001b[1;33m=\u001b[0m \u001b[0mp_simul\u001b[0m\u001b[1;33m.\u001b[0m\u001b[0mtau_m\u001b[0m \u001b[1;33m*\u001b[0m \u001b[1;33m(\u001b[0m\u001b[0mp_simul\u001b[0m\u001b[1;33m.\u001b[0m\u001b[0minput_ext\u001b[0m\u001b[1;33m[\u001b[0m\u001b[1;36m1\u001b[0m\u001b[1;33m]\u001b[0m \u001b[1;33m+\u001b[0m \u001b[0mp_net\u001b[0m\u001b[1;33m.\u001b[0m\u001b[0mg_bar_IE\u001b[0m \u001b[1;33m*\u001b[0m \u001b[0mfixed_point\u001b[0m\u001b[1;33m[\u001b[0m\u001b[1;36m0\u001b[0m\u001b[1;33m]\u001b[0m \u001b[1;33m*\u001b[0m \u001b[0mp_net\u001b[0m\u001b[1;33m.\u001b[0m\u001b[0mN_E\u001b[0m \u001b[1;33m/\u001b[0m \u001b[0mp_net\u001b[0m\u001b[1;33m.\u001b[0m\u001b[0mN_I\u001b[0m \u001b[1;33m+\u001b[0m \u001b[0mp_net\u001b[0m\u001b[1;33m.\u001b[0m\u001b[0mg_bar_II\u001b[0m \u001b[1;33m*\u001b[0m \u001b[0mfixed_point\u001b[0m\u001b[1;33m[\u001b[0m\u001b[1;36m1\u001b[0m\u001b[1;33m]\u001b[0m\u001b[1;33m)\u001b[0m\u001b[1;33m\u001b[0m\u001b[1;33m\u001b[0m\u001b[0m\n\u001b[0;32m    122\u001b[0m     \u001b[0msigma_2\u001b[0m\u001b[1;33m[\u001b[0m\u001b[1;36m0\u001b[0m\u001b[1;33m]\u001b[0m \u001b[1;33m=\u001b[0m \u001b[0mp_simul\u001b[0m\u001b[1;33m.\u001b[0m\u001b[0mtau_m\u001b[0m \u001b[1;33m*\u001b[0m \u001b[1;33m(\u001b[0m\u001b[0mp_simul\u001b[0m\u001b[1;33m.\u001b[0m\u001b[0minput_ext\u001b[0m\u001b[1;33m[\u001b[0m\u001b[1;36m0\u001b[0m\u001b[1;33m]\u001b[0m \u001b[1;33m+\u001b[0m \u001b[1;33m(\u001b[0m\u001b[0mp_net\u001b[0m\u001b[1;33m.\u001b[0m\u001b[0mg_bar_EE\u001b[0m\u001b[1;33m**\u001b[0m\u001b[1;36m2\u001b[0m\u001b[1;33m/\u001b[0m\u001b[0mp_net\u001b[0m\u001b[1;33m.\u001b[0m\u001b[0mN_EE\u001b[0m \u001b[1;33m+\u001b[0m \u001b[0mp_net\u001b[0m\u001b[1;33m.\u001b[0m\u001b[0mg_EE\u001b[0m\u001b[1;33m**\u001b[0m\u001b[1;36m2\u001b[0m\u001b[1;33m)\u001b[0m \u001b[1;33m*\u001b[0m \u001b[0mfixed_point\u001b[0m\u001b[1;33m[\u001b[0m\u001b[1;36m0\u001b[0m\u001b[1;33m]\u001b[0m \u001b[1;33m+\u001b[0m \u001b[1;33m(\u001b[0m\u001b[0mp_net\u001b[0m\u001b[1;33m.\u001b[0m\u001b[0mg_bar_EI\u001b[0m\u001b[1;33m**\u001b[0m\u001b[1;36m2\u001b[0m\u001b[1;33m/\u001b[0m\u001b[0mp_net\u001b[0m\u001b[1;33m.\u001b[0m\u001b[0mN_EI\u001b[0m \u001b[1;33m+\u001b[0m \u001b[0mp_net\u001b[0m\u001b[1;33m.\u001b[0m\u001b[0mg_EI\u001b[0m\u001b[1;33m**\u001b[0m\u001b[1;36m2\u001b[0m\u001b[1;33m)\u001b[0m \u001b[1;33m*\u001b[0m \u001b[0mp_net\u001b[0m\u001b[1;33m.\u001b[0m\u001b[0mN_I\u001b[0m\u001b[1;33m/\u001b[0m\u001b[0mp_net\u001b[0m\u001b[1;33m.\u001b[0m\u001b[0mN_E\u001b[0m \u001b[1;33m*\u001b[0m \u001b[0mfixed_point\u001b[0m\u001b[1;33m[\u001b[0m\u001b[1;36m1\u001b[0m\u001b[1;33m]\u001b[0m\u001b[1;33m)\u001b[0m\u001b[1;33m\u001b[0m\u001b[1;33m\u001b[0m\u001b[0m\n",
      "\u001b[1;31mUnboundLocalError\u001b[0m: local variable 'fixed_point' referenced before assignment"
     ]
    }
   ],
   "source": [
    "p_net_eff = calc_eff_p_net_spike(p_net, s_params)\n",
    "temp_plot_pred(p_net_eff, dim=2)"
   ]
  }
 ],
 "metadata": {
  "kernelspec": {
   "display_name": "Python 3",
   "language": "python",
   "name": "python3"
  },
  "language_info": {
   "codemirror_mode": {
    "name": "ipython",
    "version": 3
   },
   "file_extension": ".py",
   "mimetype": "text/x-python",
   "name": "python",
   "nbconvert_exporter": "python",
   "pygments_lexer": "ipython3",
   "version": "3.7.9"
  }
 },
 "nbformat": 4,
 "nbformat_minor": 2
}
